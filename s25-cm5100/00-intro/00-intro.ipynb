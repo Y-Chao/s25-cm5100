{
 "cells": [
  {
   "cell_type": "markdown",
   "id": "cc52255b",
   "metadata": {},
   "source": [
    "# Introduction of Basic Operations in HPC"
   ]
  },
  {
   "cell_type": "markdown",
   "id": "ac121410",
   "metadata": {},
   "source": [
    "## Outline\n",
    "- SSH connection\n",
    "- Basic Linux commands\n",
    "- File transfer\n",
    "- Job submission\n",
    "- Tasks"
   ]
  },
  {
   "cell_type": "markdown",
   "id": "33545176",
   "metadata": {},
   "source": [
    "## SSH Connection"
   ]
  },
  {
   "cell_type": "markdown",
   "id": "7c7ef190",
   "metadata": {},
   "source": [
    "### 1. Why SSH?"
   ]
  },
  {
   "cell_type": "markdown",
   "id": "4a6e1c5a",
   "metadata": {},
   "source": [
    "- PCs and laptops are not suitable for heavy computation\n",
    "- HPC clusters are designed for high performance computing\n",
    "- Need a way to connect to HPC clusters remotely\n",
    "- SSH (Secure Shell) is a protocol for secure remote login and other secure network services over an insecure network"
   ]
  },
  {
   "cell_type": "markdown",
   "id": "1e7b2e3b",
   "metadata": {},
   "source": [
    "### 2. How to SSH?"
   ]
  },
  {
   "cell_type": "markdown",
   "id": "d24c5c42",
   "metadata": {},
   "source": [
    "- Apply account for HPC clusters\n",
    "    - University clusters: [NUS-VANDA](https://nusit.nus.edu.sg/hpc/get-an-hpc-account/)\n",
    "    - National clusters: [NSCC](https://user.nscc.sg/saml/)\n",
    "\n",
    "- Download some related software\n",
    "    - Windows: \n",
    "        - [MobaXterm](https://mobaxterm.mobatek.net/): Easy for beginners, with built-in X server and SFTP\n",
    "        - [Xshell](https://www.xshell.com/zh/free-for-home-school/): Popular SSH client, works well with [Xftp](https://www.netsarang.com/en/xftp/) for file transfer\n",
    "        - [PuTTY](https://www.putty.org/): Lightweight, but old-fashioned\n",
    "    - MacOS/Linux:\n",
    "        - [iTerm2](https://iterm2.com/): Popular terminal emulator for MacOS, works well with [FileZilla](https://filezilla-project.org/) for file transfer\n",
    "        - Terminal (built-in)\n",
    "    - Optional: \n",
    "        - [VSCode](https://code.visualstudio.com/)\n",
    "\n",
    "- Connect to remote server\n",
    "    - The core command to connect to an HPC cluster is `ssh user@server`:\n",
    "        - `ssh`: Secure Shell, a protocol for securely connecting to remote servers.\n",
    "        - `user`: Your username on the HPC cluster, generally your `NUS ID`.\n",
    "        - `server`: The address of the HPC cluster you are trying to connect to.\n",
    "            - Atlas: `atlas8.nus.edu.sg`\n",
    "            - VANDA: `vanda.nus.edu.sg`\n",
    "            - NSCC: `aspire2a.nus.edu.sg`\n",
    "    - For connecting to server with external software, find the corresponding key-value and fill in the blanks\n",
    "    - Note: \n",
    "        - The first time you connect to a new server, you may see a message asking if you want to trust the server's host key. Type `yes` and press Enter to continue.\n",
    "        - VPN is required for off-campus access to the above clusters.\n",
    "- Check your connection:\n",
    "    - After connecting, you should see a command prompt that looks something like this: `user@server:~$`\n",
    "    - You can also check the hostname of the server you are connected to by typing `hostname` and pressing Enter.\n",
    "    - Then you are in the remote server, and you can interact with it by typing commands into the terminal or using the GUI of the software."
   ]
  },
  {
   "cell_type": "markdown",
   "id": "f52b42e3",
   "metadata": {},
   "source": [
    "## Basic Linux Commands"
   ]
  },
  {
   "cell_type": "markdown",
   "id": "2bd5c82f",
   "metadata": {},
   "source": [
    "### 1. Check current directory and list files\n",
    "- `pwd`: Print Working Directory, shows the current directory you are in.\n",
    "- `ls`: List files and directories in the current directory.\n",
    "    - `ls -l`: List files in long format, showing permissions, ownership, size, and modification date.\n",
    "    - `ls -a`: List all files, including hidden files (those starting with a dot)."
   ]
  },
  {
   "cell_type": "markdown",
   "id": "aa0b9713",
   "metadata": {
    "vscode": {
     "languageId": "plaintext"
    }
   },
   "source": [
    "### 2. Move your directory to the desired location\n",
    "- `cd <directory_path>`: Change Directory, move to the specified directory.\n",
    "    - `cd ..`: Move up one directory level.\n",
    "    - `cd ~`: Move to your home directory.\n",
    "    - `cd -`: Move to the previous directory."
   ]
  },
  {
   "cell_type": "markdown",
   "id": "751929e5",
   "metadata": {},
   "source": [
    "### 3. Create, copy, move, and delete files and directories\n",
    "- `mkdir <directory_name>`: Create a new directory with the specified name.\n",
    "- `touch <file_name>`: Create a new empty file with the specified name.\n",
    "- `cp <source> <destination>`: Copy a file or directory from source to destination.\n",
    "    - `cp -r <source_directory> <destination_directory>`: Copy a directory and its contents recursively.\n",
    "- `mv <source> <destination>`: Move or rename a file or directory.\n",
    "- `rm <file_name>`: Delete a file.\n",
    "    - `rm -r <directory_name>`: Delete a directory and its contents recursively.\n",
    "\n",
    "**Note: Be careful with the `rm` command, as deleted files cannot be easily recovered, especially for `rm -rf`.**"
   ]
  },
  {
   "cell_type": "markdown",
   "id": "12afbf1f",
   "metadata": {},
   "source": [
    "### 4. Edit files\n",
    "Generally, there are two types of text editors in Linux: command-line editors (`vim`, `nano`, `sed`) and <font color=\"read\">graphical editors</font>.\n",
    "- The former one is more powerful and flexible, but has a steep learning curve.\n",
    "- The latter one is more user-friendly, but may not be available in all environments."
   ]
  },
  {
   "cell_type": "markdown",
   "id": "e8ff85e5",
   "metadata": {},
   "source": [
    "### 5. View file content\n",
    "- `cat <file_name>`: Concatenate and display the content of a file.\n",
    "- `less <file_name>`: View the content of a file one page at a time, allowing for easy navigation.\n",
    "- `head <file_name>`: Display the first 10 lines of a file.\n",
    "- `tail <file_name>`: Display the last 10 lines of a file.\n",
    "    - `tail -f <file_name>`: Continuously monitor a file for new content, useful for log files.\n",
    "- `grep <pattern> <file_name>`: Search for a specific pattern in a file and display matching lines."
   ]
  },
  {
   "cell_type": "markdown",
   "id": "59dd9a27",
   "metadata": {},
   "source": [
    "####"
   ]
  },
  {
   "cell_type": "markdown",
   "id": "77671dd4",
   "metadata": {
    "vscode": {
     "languageId": "plaintext"
    }
   },
   "source": [
    "## File Transfer"
   ]
  },
  {
   "cell_type": "markdown",
   "id": "a44f8fdf",
   "metadata": {},
   "source": [
    "1. Upload/download files to/from remote server\n",
    "    - Use external software to transfer files between local machine and remote server (drag and drop is supported in some software)\n",
    "        - Windows: MobaXterm, Xftp, FileZilla\n",
    "        - MacOS/Linux: FileZilla\n",
    "    - Use `scp` (secure copy) command in terminal\n",
    "        - Upload: `scp <local_file_path> user@server:<remote_file_path>`\n",
    "        - Download: `scp user@server:<remote_file_path> <local_file_path>`\n",
    "\n",
    "2. Download files from public websites to remote server (conducted in remote server)\n",
    "    - Use `wget` command in terminal\n",
    "        - `wget <file_url>`: Download a file from the specified URL to the current directory.\n",
    "    - Use `curl` command in terminal\n",
    "        - `curl -O <file_url>`: Download a file from the specified URL to the current directory, preserving the original filename.\n",
    "    - Use `git` command in terminal (for version control)\n",
    "        - `git clone <repository_url>`: Clone a remote Git repository to the current directory.\n",
    "        - `git pull`: Update the local repository with changes from the remote repository.\n",
    "        - `git push`: Upload local changes to the remote repository."
   ]
  },
  {
   "cell_type": "markdown",
   "id": "93cd5f36",
   "metadata": {},
   "source": [
    "## Job Submission"
   ]
  },
  {
   "cell_type": "markdown",
   "id": "a329f83a",
   "metadata": {},
   "source": [
    "A job management system centrally manages and schedules computing resources, distributing user-submitted jobs across different nodes or cores within the same node to maximize cluster utilization and simplify operations."
   ]
  },
  {
   "cell_type": "markdown",
   "id": "c44b6ee0",
   "metadata": {},
   "source": [
    "### 1. Submit job\n",
    "Two ways to submit your job:\n",
    "- Interactive job:\n",
    "    - Interactive jobs allow you to access compute nodes directly for testing or debugging.\n",
    "    - `qsub -I -l select=1:ncpus=24:mem=64gb -l walltime=02:00:00`\n",
    "- Batch job:\n",
    "    - Batch jobs are submitted via a script and run automatically when resources are available.\n",
    "    - `qsub run_job.pbs`\n",
    "\n",
    "**Example batch script (`run_job.pbs`):**\n",
    "```bash\n",
    "#!/bin/bash\n",
    "#PBS -N my_job\n",
    "#PBS -l select=1:ncpus=24:mem=64gb\n",
    "#PBS -l walltime=12:00:00\n",
    "#PBS -q normal\n",
    "#PBS -j oe\n",
    "\n",
    "cd $PBS_O_WORKDIR\n",
    "module load vasp\n",
    "python test_script.py\n",
    "```\n",
    "\n",
    "Note:    \n",
    "- `#PBS -N my_job`: Job name\n",
    "- `#PBS -l select=1:ncpus=24:mem=64gb`: Request 1 node with 24 CPUs and 64GB memory\n",
    "- `#PBS -l walltime=12:00:00`: Set maximum wall time to 12 hours\n",
    "- `#PBS -q normal`: Specify the queue to submit the job to\n",
    "- `#PBS -j oe`: Combine standard output and error into a single file"
   ]
  },
  {
   "cell_type": "markdown",
   "id": "8d7821e9",
   "metadata": {},
   "source": [
    "### 2. Check job status\n",
    "- `qstat`: Check the status of your jobs in the queue.\n",
    "    - `R`: means the job is currently running.\n",
    "    - `Q`: means the job is queued and waiting for resources.\n",
    "    - `C`: means the job has completed.\n",
    "    - `E`: means the job has exited with an error.\n",
    "- `qdel <job_id>`: Delete a job from the queue using its job ID.\n",
    "- `qstat -f <job_id>`: Get detailed information about a specific job."
   ]
  },
  {
   "cell_type": "markdown",
   "id": "7fe0c359",
   "metadata": {},
   "source": [
    "## Tasks"
   ]
  },
  {
   "cell_type": "markdown",
   "id": "3601adae",
   "metadata": {},
   "source": [
    "### 1. Connect to the HPC cluster using SSH.\n",
    "### 2. Navigate through directories and manage files using basic Linux commands.\n",
    "### 4. Configure your environment\n",
    "- Download the needed files: `git clone https://github.com/Y-Chao/s25-cm5100.git`\n",
    "- Install the required dependencies: `cd s25-cm5100 && bash config_hpc.sh`\n",
    "- Input the ip of the file server when prompted.\n",
    "- Submit a toy job to test your configuration: `qsub sub_vasp.pbs`"
   ]
  }
 ],
 "metadata": {
  "language_info": {
   "name": "python"
  }
 },
 "nbformat": 4,
 "nbformat_minor": 5
}
