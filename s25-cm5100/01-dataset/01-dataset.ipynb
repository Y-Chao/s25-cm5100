{
 "cells": [
  {
   "cell_type": "markdown",
   "id": "27e7c66b",
   "metadata": {
    "vscode": {
     "languageId": "plaintext"
    }
   },
   "source": [
    "Before running the code, please update your local repository with the following command in your terminal:\n",
    "* First, enter into your local repository folder\n",
    "```\n",
    "cd ~/s25-cm5100\n",
    "```\n",
    "* Then, use git fetch origin to update your local repository\n",
    "```\n",
    "git fetch origin\n",
    "git merge origin/main --no-commit --no-ff\n",
    "```"
   ]
  },
  {
   "cell_type": "markdown",
   "id": "3ba659f0",
   "metadata": {},
   "source": [
    "# Using DFT to label your data"
   ]
  },
  {
   "cell_type": "markdown",
   "id": "b8ed08fa",
   "metadata": {},
   "source": [
    "\n",
    "\n",
    "## Download your dataset to a specific folder （OPTIONAL）\n",
    "* First, enter into your scratch folder\n",
    "```\n",
    "cd ~/scratch\n",
    "```\n",
    "* Then, use wget to download the dataset from the server\n",
    "[ip] and dataset.xyz should be replaced by the actual IP address and the actual dataset name\n",
    "```\n",
    "wget [ip]/dataset.xyz\n",
    "```"
   ]
  },
  {
   "cell_type": "markdown",
   "id": "42aaaa0e",
   "metadata": {},
   "source": [
    "## Store a series of structure in xyz format to a separate folder\n",
    "* First, activate your conda environment\n",
    "```\n",
    "module load miniforge3\n",
    "conda activate cm5100\n",
    "```\n",
    "* Then, use the following command to uncompress the dataset\n",
    "```\n",
    "python ~/s25-cm5100/s25-cm5100/data/dft/uncompress_xyz.py dataset.xyz\n",
    "```"
   ]
  },
  {
   "cell_type": "markdown",
   "id": "9f2fa856",
   "metadata": {},
   "source": []
  },
  {
   "cell_type": "markdown",
   "id": "b8582bfe",
   "metadata": {},
   "source": [
    "## Submit your jobs using the following script\n",
    "\n",
    "* First, copy the job submission script to your scratch folder\n",
    "```\n",
    "cp ~/s25-cm5100/s25-cm5100/data/dft/sub_vasp.pbs ~/scratch/\n",
    "```\n",
    "* Then, use the following command to submit your jobs\n",
    "```\n",
    "nohup python ~/s25-cm5100/s25-cm5100/data/dft/dpdispatch.py q >log 2>&1 &\n",
    "```"
   ]
  }
 ],
 "metadata": {
  "language_info": {
   "name": "python"
  }
 },
 "nbformat": 4,
 "nbformat_minor": 5
}
