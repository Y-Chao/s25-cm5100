{
 "cells": [
  {
   "cell_type": "markdown",
   "id": "3ba659f0",
   "metadata": {},
   "source": [
    "# Using DFT to label your data"
   ]
  },
  {
   "cell_type": "markdown",
   "id": "b8ed08fa",
   "metadata": {},
   "source": [
    "## Download your dataset to a specific folder\n",
    "* First, enter into your scratch folder\n",
    "```\n",
    "cd ~/scratch\n",
    "```\n",
    "* Then, use wget to download the dataset from the server\n",
    "```\n",
    "wget [ip]/dataset.xyz\n",
    "```"
   ]
  },
  {
   "cell_type": "markdown",
   "id": "42aaaa0e",
   "metadata": {},
   "source": [
    "## Store a series of structure in xyz format to a separate folder\n",
    "* First, activate your conda environment\n",
    "```\n",
    "conda activate cm5100\n",
    "```\n",
    "* Then, use the following command to uncompress the dataset\n",
    "```\n",
    "python ~/s25-cm5100/data/dft/uncompress.py dataset.xyz\n",
    "```"
   ]
  },
  {
   "cell_type": "markdown",
   "id": "b8582bfe",
   "metadata": {},
   "source": [
    "## Submit your jobs using the following script\n",
    "\n",
    "* First, copy the job submission script to your scratch folder\n",
    "```\n",
    "cp ~/s25-cm5100/data/dft/sub_vasp.pbs ~/scratch/\n",
    "```\n",
    "* Then, use the following command to submit your jobs\n",
    "```\n",
    "python ~/s25-cm5100/data/dft/dpdispatch.py q\n",
    "```"
   ]
  }
 ],
 "metadata": {
  "language_info": {
   "name": "python"
  }
 },
 "nbformat": 4,
 "nbformat_minor": 5
}
