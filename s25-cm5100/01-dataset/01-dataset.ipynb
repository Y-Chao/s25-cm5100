{
 "cells": [
  {
   "cell_type": "markdown",
   "id": "9fc965b4",
   "metadata": {
    "vscode": {
     "languageId": "plaintext"
    }
   },
   "source": [
    "# Label your structure by DFT"
   ]
  },
  {
   "cell_type": "markdown",
   "id": "2ba2f9bc",
   "metadata": {
    "vscode": {
     "languageId": "plaintext"
    }
   },
   "source": [
    "## Update the new file on your NSCC surver"
   ]
  },
  {
   "cell_type": "markdown",
   "id": "ac50188a",
   "metadata": {
    "vscode": {
     "languageId": "plaintext"
    }
   },
   "source": [
    "- Connect to your NSCC server by MobaXterm or other SSH tools\n",
    "- Enter your s25-cm5100 directory   \n",
    "```cd ~/s25-cm5100```   \n",
    "- Update your local repository      \n",
    "```git fetch origin```   \n",
    "```git reset --hard origin/main ```"
   ]
  },
  {
   "cell_type": "markdown",
   "id": "71ff1b83",
   "metadata": {
    "vscode": {
     "languageId": "plaintext"
    }
   },
   "source": [
    "## Choose one to continue your jobs"
   ]
  },
  {
   "cell_type": "markdown",
   "id": "6d1f8faf",
   "metadata": {
    "vscode": {
     "languageId": "plaintext"
    }
   },
   "source": [
    "### [Option 1] Submit your jobs directly\n",
    "```\n",
    "bash ~/s25-cm5100/s25-cm5100/01-dataset/01-prepare.sh\n",
    "``` "
   ]
  },
  {
   "cell_type": "markdown",
   "id": "10b93141",
   "metadata": {
    "vscode": {
     "languageId": "plaintext"
    }
   },
   "source": [
    "### [Option 2] Run them one by one\n",
    "Following are the commands and comments in each step."
   ]
  },
  {
   "cell_type": "markdown",
   "id": "b8ed08fa",
   "metadata": {},
   "source": [
    "\n",
    "\n",
    "## Download your dataset to a specific folder （OPTIONAL）\n",
    "* First, enter into your scratch folder\n",
    "```\n",
    "cd ~/scratch\n",
    "```\n",
    "* Then, use wget to download the dataset from the server\n",
    "[ip] and dataset.xyz should be replaced by the actual IP address and the actual dataset name\n",
    "```\n",
    "wget [ip]/dataset.xyz\n",
    "```"
   ]
  },
  {
   "cell_type": "markdown",
   "id": "42aaaa0e",
   "metadata": {},
   "source": [
    "## Store a series of structure in xyz format to a separate folder\n",
    "* First, activate your conda environment\n",
    "```\n",
    "module load miniforge3\n",
    "conda activate cm5100\n",
    "```\n",
    "* Then, use the following command to uncompress the dataset\n",
    "```\n",
    "python ~/s25-cm5100/s25-cm5100/data/dft/uncompress_xyz.py dataset.xyz\n",
    "```"
   ]
  },
  {
   "cell_type": "markdown",
   "id": "b8582bfe",
   "metadata": {},
   "source": [
    "## Submit your jobs using the following script\n",
    "\n",
    "* First, copy the job submission script to your scratch folder\n",
    "```\n",
    "cp ~/s25-cm5100/s25-cm5100/data/dft/sub_vasp.pbs ~/scratch/\n",
    "```\n",
    "* Then, use the following command to submit your jobs\n",
    "```\n",
    "nohup python ~/s25-cm5100/s25-cm5100/data/dft/dpdispatch.py q 1 >log 2>&1 &\n",
    "```\n",
    "1 represents the first index you want to submit. You can change it to any number like 90*n+1."
   ]
  },
  {
   "cell_type": "markdown",
   "id": "02a4cbb6",
   "metadata": {},
   "source": []
  }
 ],
 "metadata": {
  "language_info": {
   "name": "python"
  }
 },
 "nbformat": 4,
 "nbformat_minor": 5
}
